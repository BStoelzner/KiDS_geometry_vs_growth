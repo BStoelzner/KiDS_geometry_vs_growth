{
 "cells": [
  {
   "cell_type": "code",
   "execution_count": 1,
   "metadata": {},
   "outputs": [],
   "source": [
    "import os\n",
    "import numpy as np\n",
    "import matplotlib.pyplot as plt\n",
    "from chainconsumer import ChainConsumer\n",
    "import glob\n",
    "import pandas as pd\n",
    "import scipy.linalg\n",
    "from scipy.special import erfcinv\n",
    "import anesthetic\n",
    "import scipy.stats"
   ]
  },
  {
   "cell_type": "code",
   "execution_count": 2,
   "metadata": {},
   "outputs": [],
   "source": [
    "path = '/Users/ben/chains_for_BenjS/'"
   ]
  },
  {
   "cell_type": "code",
   "execution_count": 3,
   "metadata": {},
   "outputs": [],
   "source": [
    "def loadMontePythonChain(directory, latex_paramnames=False):\n",
    "    data = np.loadtxt(directory + '/chain_NS__accepted.txt')\n",
    "    # load parameter names\n",
    "    filename =  glob.glob(directory + '/*.paramnames')\n",
    "    names = np.loadtxt(filename[0], dtype=str, delimiter='\\t').T[0]\n",
    "    # first two columns: weight & mloglkl\n",
    "    params = np.concatenate((['weight','m2loglkl'], names))\n",
    "    # remove trailing spaces\n",
    "    for idx, name in enumerate(params):\n",
    "        if name[-1] == ' ':\n",
    "            params[idx] = name[:-1]\n",
    "    # second columns contains -2*loglikehood = chi-square!\n",
    "    params_latex = ['weight','m2loglkl',r'$\\omega_{\\rm cdm}$', r'$S_8$', r'$\\omega_{\\rm b}$', r'$n_{\\rm s}$', r'$h$', r'$A_{\\rm bary}$', r'$A_{\\rm IA}$', r'$D_{\\rm z1}$',r'$D_{\\rm z2}$',r'$D_{\\rm z3}$',r'$D_{\\rm z4}$',r'$D_{\\rm z5}$', r'$\\Omega_{\\rm m}$', r'$\\sigma_8$']\n",
    "    if latex_paramnames:\n",
    "        chain = pd.DataFrame(data, columns = params_latex)\n",
    "    else:\n",
    "        chain = pd.DataFrame(data, columns = params)\n",
    "    # add the true log-likelihood to the chain\n",
    "    chain.insert(2,'loglkl',-0.5*chain['m2loglkl'])\n",
    "    return(chain)"
   ]
  },
  {
   "cell_type": "code",
   "execution_count": 4,
   "metadata": {},
   "outputs": [],
   "source": [
    "# chi-square values for a gaussian prior\n",
    "means = np.array([0., 0.181, 1.110, 1.395, -1.265])\n",
    "sigmas = np.array([1.0, 1.0, 1.0, 1.0, 1.0])\n",
    "def gaussian_chi2(x, mean, sigma):\n",
    "    return((x - mean)**2 / sigma**2)"
   ]
  },
  {
   "cell_type": "code",
   "execution_count": 5,
   "metadata": {},
   "outputs": [],
   "source": [
    "# load the PCL chain\n",
    "KiDS1000_PCL = loadMontePythonChain(path+'KiDS1000_PCL')"
   ]
  },
  {
   "cell_type": "code",
   "execution_count": 6,
   "metadata": {},
   "outputs": [],
   "source": [
    "# Calculate the prior from a Gaussian chi-square (-0.5 * chi-square)\n",
    "prior = -0.5*np.sum(gaussian_chi2(KiDS1000_PCL[['D_z1','D_z2','D_z3','D_z4','D_z5']].values, means, sigmas), axis=1)\n",
    "# add prior column to the chain\n",
    "KiDS1000_PCL.insert(3, 'prior', prior)\n",
    "# add posterior column to the chain (post = loglkl + prior) Note: This is the true log-likelihood; not the default -2*loglkl that MontePython puts in the output file!\n",
    "KiDS1000_PCL.insert(4,'post', KiDS1000_PCL['loglkl'] + KiDS1000_PCL['prior'])"
   ]
  },
  {
   "cell_type": "code",
   "execution_count": 22,
   "metadata": {},
   "outputs": [
    {
     "data": {
      "text/plain": [
       "array([ 0.01494318,  0.00763362,  0.0244611 ,  0.01905112, -0.00020596])"
      ]
     },
     "execution_count": 22,
     "metadata": {},
     "output_type": "execute_result"
    }
   ],
   "source": [
    "L @ KiDS1000_PCL[['D_z1','D_z2','D_z3','D_z4','D_z5']].values[0]"
   ]
  },
  {
   "cell_type": "code",
   "execution_count": 19,
   "metadata": {},
   "outputs": [
    {
     "data": {
      "text/html": [
       "<div>\n",
       "<style scoped>\n",
       "    .dataframe tbody tr th:only-of-type {\n",
       "        vertical-align: middle;\n",
       "    }\n",
       "\n",
       "    .dataframe tbody tr th {\n",
       "        vertical-align: top;\n",
       "    }\n",
       "\n",
       "    .dataframe thead th {\n",
       "        text-align: right;\n",
       "    }\n",
       "</style>\n",
       "<table border=\"1\" class=\"dataframe\">\n",
       "  <thead>\n",
       "    <tr style=\"text-align: right;\">\n",
       "      <th></th>\n",
       "      <th>weight</th>\n",
       "      <th>m2loglkl</th>\n",
       "      <th>loglkl</th>\n",
       "      <th>prior</th>\n",
       "      <th>post</th>\n",
       "      <th>omega_cdm</th>\n",
       "      <th>S_8</th>\n",
       "      <th>omega_b</th>\n",
       "      <th>n_s</th>\n",
       "      <th>h</th>\n",
       "      <th>c_min</th>\n",
       "      <th>A_IA</th>\n",
       "      <th>D_z1</th>\n",
       "      <th>D_z2</th>\n",
       "      <th>D_z3</th>\n",
       "      <th>D_z4</th>\n",
       "      <th>D_z5</th>\n",
       "      <th>Omega_m</th>\n",
       "      <th>sigma8</th>\n",
       "    </tr>\n",
       "  </thead>\n",
       "  <tbody>\n",
       "    <tr>\n",
       "      <th>0</th>\n",
       "      <td>6.989954e-98</td>\n",
       "      <td>357.0595</td>\n",
       "      <td>-178.52975</td>\n",
       "      <td>-1.849504</td>\n",
       "      <td>-180.379254</td>\n",
       "      <td>0.237391</td>\n",
       "      <td>0.858670</td>\n",
       "      <td>0.023707</td>\n",
       "      <td>0.853149</td>\n",
       "      <td>0.665548</td>\n",
       "      <td>2.420040</td>\n",
       "      <td>-1.203034</td>\n",
       "      <td>1.411935</td>\n",
       "      <td>0.377454</td>\n",
       "      <td>1.891188</td>\n",
       "      <td>2.416759</td>\n",
       "      <td>-1.152720</td>\n",
       "      <td>0.590904</td>\n",
       "      <td>0.611827</td>\n",
       "    </tr>\n",
       "    <tr>\n",
       "      <th>1</th>\n",
       "      <td>2.460313e-95</td>\n",
       "      <td>351.1934</td>\n",
       "      <td>-175.59670</td>\n",
       "      <td>-8.259294</td>\n",
       "      <td>-183.855994</td>\n",
       "      <td>0.120403</td>\n",
       "      <td>1.058395</td>\n",
       "      <td>0.022902</td>\n",
       "      <td>1.096898</td>\n",
       "      <td>0.770385</td>\n",
       "      <td>2.253235</td>\n",
       "      <td>1.806085</td>\n",
       "      <td>-3.675285</td>\n",
       "      <td>1.515685</td>\n",
       "      <td>1.474679</td>\n",
       "      <td>2.114458</td>\n",
       "      <td>-2.025837</td>\n",
       "      <td>0.242545</td>\n",
       "      <td>1.177098</td>\n",
       "    </tr>\n",
       "    <tr>\n",
       "      <th>2</th>\n",
       "      <td>1.634309e-93</td>\n",
       "      <td>346.9948</td>\n",
       "      <td>-173.49740</td>\n",
       "      <td>-3.648615</td>\n",
       "      <td>-177.146015</td>\n",
       "      <td>0.079693</td>\n",
       "      <td>0.956155</td>\n",
       "      <td>0.021722</td>\n",
       "      <td>0.887307</td>\n",
       "      <td>0.715083</td>\n",
       "      <td>2.308430</td>\n",
       "      <td>4.210385</td>\n",
       "      <td>0.204985</td>\n",
       "      <td>-1.236310</td>\n",
       "      <td>1.839115</td>\n",
       "      <td>0.719913</td>\n",
       "      <td>-3.328757</td>\n",
       "      <td>0.199591</td>\n",
       "      <td>1.172245</td>\n",
       "    </tr>\n",
       "  </tbody>\n",
       "</table>\n",
       "</div>"
      ],
      "text/plain": [
       "         weight  m2loglkl     loglkl     prior        post  omega_cdm  \\\n",
       "0  6.989954e-98  357.0595 -178.52975 -1.849504 -180.379254   0.237391   \n",
       "1  2.460313e-95  351.1934 -175.59670 -8.259294 -183.855994   0.120403   \n",
       "2  1.634309e-93  346.9948 -173.49740 -3.648615 -177.146015   0.079693   \n",
       "\n",
       "        S_8   omega_b       n_s         h     c_min      A_IA      D_z1  \\\n",
       "0  0.858670  0.023707  0.853149  0.665548  2.420040 -1.203034  1.411935   \n",
       "1  1.058395  0.022902  1.096898  0.770385  2.253235  1.806085 -3.675285   \n",
       "2  0.956155  0.021722  0.887307  0.715083  2.308430  4.210385  0.204985   \n",
       "\n",
       "       D_z2      D_z3      D_z4      D_z5   Omega_m    sigma8  \n",
       "0  0.377454  1.891188  2.416759 -1.152720  0.590904  0.611827  \n",
       "1  1.515685  1.474679  2.114458 -2.025837  0.242545  1.177098  \n",
       "2 -1.236310  1.839115  0.719913 -3.328757  0.199591  1.172245  "
      ]
     },
     "execution_count": 19,
     "metadata": {},
     "output_type": "execute_result"
    }
   ],
   "source": [
    "KiDS1000_PCL.loc[[0,1,2]]"
   ]
  },
  {
   "cell_type": "code",
   "execution_count": 8,
   "metadata": {},
   "outputs": [],
   "source": [
    "# function that writes the chain including loglkl, prior, and posterior to a file\n",
    "def add_posterior(input_folder, output_file):\n",
    "    chain = loadMontePythonChain(input_folder)\n",
    "    # Calculate the prior from a Gaussian chi-square (-0.5 * chi-square)\n",
    "    prior = -0.5*np.sum(gaussian_chi2(chain[['D_z1','D_z2','D_z3','D_z4','D_z5']].values, means, sigmas), axis=1)\n",
    "    # add prior column to the chain\n",
    "    chain.insert(3, 'prior', prior)\n",
    "    # add posterior column to the chain (post = loglkl + prior) Note: This is the true log-likelihood; not the default -2*loglkl that MontePython puts in the output file!\n",
    "    chain.insert(4,'post', chain['loglkl'] + chain['prior'])\n",
    "    chain.to_csv(output_file, sep=' ', header= True, index = False)"
   ]
  },
  {
   "cell_type": "code",
   "execution_count": 9,
   "metadata": {},
   "outputs": [],
   "source": [
    "add_posterior('/Users/ben/chains_for_BenjS/KiDS1000_PCL', path+'/KiDS1000_PCL_posterior.txt')\n",
    "add_posterior('/Users/ben/chains_for_BenjS/KiDS1000_SDSS', path+'/KiDS1000_SDSS_posterior.txt')"
   ]
  },
  {
   "cell_type": "code",
   "execution_count": 10,
   "metadata": {},
   "outputs": [],
   "source": [
    "# Cross-check with fiducial KiDS1000 chain\n",
    "# Load the fiducial KiDS1000 chain\n",
    "KiDS1000_default_data = np.loadtxt('/Users/ben/KiDS1000_fiducial/bp_output_multinest_C.txt')\n",
    "KiDS1000_default_paramnames = ['cosmological_parameters--omch2','cosmological_parameters--ombh2','cosmological_parameters--h0','cosmological_parameters--n_s','cosmological_parameters--s_8_input','halo_model_parameters--a','intrinsic_alignment_parameters--a','nofz_shifts--uncorr_bias_1','nofz_shifts--uncorr_bias_2','nofz_shifts--uncorr_bias_3','nofz_shifts--uncorr_bias_4','nofz_shifts--uncorr_bias_5','COSMOLOGICAL_PARAMETERS--S_8','COSMOLOGICAL_PARAMETERS--SIGMA_8','COSMOLOGICAL_PARAMETERS--A_S','COSMOLOGICAL_PARAMETERS--OMEGA_M','COSMOLOGICAL_PARAMETERS--OMEGA_NU','COSMOLOGICAL_PARAMETERS--OMEGA_LAMBDA','COSMOLOGICAL_PARAMETERS--COSMOMC_THETA','NOFZ_SHIFTS--BIAS_1','NOFZ_SHIFTS--BIAS_2','NOFZ_SHIFTS--BIAS_3','NOFZ_SHIFTS--BIAS_4','NOFZ_SHIFTS--BIAS_5','DELTA_Z_OUT--BIN_1','DELTA_Z_OUT--BIN_2','DELTA_Z_OUT--BIN_3','DELTA_Z_OUT--BIN_4','DELTA_Z_OUT--BIN_5','prior','like','post','weight']\n",
    "covariance_file = '/Users/ben/kids1000_Phase1_data/kids/nofz/SOM_cov_multiplied.asc'\n",
    "KiDS1000_default = pd.DataFrame(KiDS1000_default_data, columns = KiDS1000_default_paramnames)\n",
    "cov = np.loadtxt(covariance_file)\n",
    "L = np.linalg.cholesky(cov)"
   ]
  },
  {
   "cell_type": "code",
   "execution_count": 11,
   "metadata": {},
   "outputs": [
    {
     "name": "stdout",
     "output_type": "stream",
     "text": [
      "[ 1.26866888 -0.98319208 -0.79325779 -0.08698091  0.70680734]\n"
     ]
    }
   ],
   "source": [
    "# print some nofz_shifts--uncorr_bias. These are the Dz shifts that are sampled in MontePython. \n",
    "print(KiDS1000_default[['nofz_shifts--uncorr_bias_1','nofz_shifts--uncorr_bias_2','nofz_shifts--uncorr_bias_3','nofz_shifts--uncorr_bias_4','nofz_shifts--uncorr_bias_5']].values[0])"
   ]
  },
  {
   "cell_type": "code",
   "execution_count": 12,
   "metadata": {},
   "outputs": [
    {
     "data": {
      "image/png": "[encoded data removed]",
      "text/plain": [
       "<Figure size 432x288 with 1 Axes>"
      ]
     },
     "metadata": {
      "needs_background": "light"
     },
     "output_type": "display_data"
    }
   ],
   "source": [
    "# Compare Dz_shift in fiducial and PCL chain\n",
    "KiDS1000_PCL_kde = scipy.stats.gaussian_kde(-KiDS1000_PCL['D_z3'], weights=KiDS1000_PCL['weight'])\n",
    "KiDS1000_default_kde = scipy.stats.gaussian_kde(KiDS1000_default['nofz_shifts--uncorr_bias_3'], weights=KiDS1000_default['weight'])\n",
    "z_grid = np.linspace(-5,5,1000)\n",
    "plt.figure()\n",
    "plt.plot(z_grid, KiDS1000_PCL_kde.evaluate(z_grid), label='KiDS1000-PCL')\n",
    "plt.plot(z_grid, KiDS1000_default_kde.evaluate(z_grid), label='KiDS1000-default')\n",
    "plt.xlabel('D_z3')\n",
    "plt.legend()\n",
    "plt.show()"
   ]
  },
  {
   "cell_type": "code",
   "execution_count": 13,
   "metadata": {},
   "outputs": [
    {
     "name": "stdout",
     "output_type": "stream",
     "text": [
      "These two should be identical!\n",
      "[ 0.01342693 -0.00773269 -0.01029395  0.00128885  0.00675495]\n",
      "[ 0.01342693 -0.00773269 -0.01029395  0.00128885  0.00675495]\n",
      "These are the Dz shifts after applying the photoz-bias module (\"purpose: Modify a set of loaded n(z) distributions with a multiplicative or additive bias\")\n",
      "[ 0.01315437 -0.00797683 -0.0105522   0.00128635  0.00675485]\n"
     ]
    }
   ],
   "source": [
    "# Check how the Dz shifts are processed in KCAP:\n",
    "p = KiDS1000_default[['nofz_shifts--uncorr_bias_1','nofz_shifts--uncorr_bias_2','nofz_shifts--uncorr_bias_3','nofz_shifts--uncorr_bias_4','nofz_shifts--uncorr_bias_5']].values[0]\n",
    "p = L @ np.array(p)\n",
    "print('These two should be identical!')\n",
    "print(p)\n",
    "print(KiDS1000_default[['NOFZ_SHIFTS--BIAS_1','NOFZ_SHIFTS--BIAS_2','NOFZ_SHIFTS--BIAS_3','NOFZ_SHIFTS--BIAS_4','NOFZ_SHIFTS--BIAS_5']].values[0])\n",
    "print('These are the Dz shifts after applying the photoz-bias module (\"purpose: Modify a set of loaded n(z) distributions with a multiplicative or additive bias\")')\n",
    "print(KiDS1000_default[['DELTA_Z_OUT--BIN_1','DELTA_Z_OUT--BIN_2','DELTA_Z_OUT--BIN_3','DELTA_Z_OUT--BIN_4','DELTA_Z_OUT--BIN_5']].values[0])"
   ]
  },
  {
   "cell_type": "code",
   "execution_count": 14,
   "metadata": {},
   "outputs": [],
   "source": [
    "# Manually calculate the Gaussian prior and the posterior\n",
    "KiDS1000_default_myprior = -0.5*np.sum(gaussian_chi2(KiDS1000_default[['nofz_shifts--uncorr_bias_1','nofz_shifts--uncorr_bias_2','nofz_shifts--uncorr_bias_3','nofz_shifts--uncorr_bias_4','nofz_shifts--uncorr_bias_5']].values, -means, sigmas), axis=1)\n",
    "KiDS1000_default_mypost = KiDS1000_default_myprior + KiDS1000_default['like']"
   ]
  },
  {
   "cell_type": "code",
   "execution_count": 16,
   "metadata": {},
   "outputs": [
    {
     "data": {
      "image/png": "[encoded data removed]",
      "text/plain": [
       "<Figure size 432x288 with 1 Axes>"
      ]
     },
     "metadata": {
      "needs_background": "light"
     },
     "output_type": "display_data"
    }
   ],
   "source": [
    "# Compare the KDE of the prior\n",
    "kde_myprior_default = scipy.stats.gaussian_kde(KiDS1000_default_myprior, weights=KiDS1000_default['weight'])\n",
    "kde_prior_default = scipy.stats.gaussian_kde(KiDS1000_default['prior'], weights=KiDS1000_default['weight'])\n",
    "prior_grid = np.linspace(-20,5,1000)\n",
    "plt.figure()\n",
    "plt.plot(prior_grid, kde_myprior_default.evaluate(prior_grid), label='KiDS1000-default my prior')\n",
    "plt.plot(prior_grid, kde_prior_default.evaluate(prior_grid), label='KiDS1000-default')\n",
    "plt.xlabel('prior')\n",
    "plt.legend()\n",
    "plt.show()"
   ]
  },
  {
   "cell_type": "code",
   "execution_count": 17,
   "metadata": {},
   "outputs": [
    {
     "name": "stdout",
     "output_type": "stream",
     "text": [
      "0       -2.229515\n",
      "1       -2.229515\n",
      "2       -2.229515\n",
      "3       -2.229515\n",
      "4       -2.229515\n",
      "5       -2.229515\n",
      "6       -2.229515\n",
      "7       -2.229515\n",
      "8       -2.229515\n",
      "9       -2.229515\n",
      "10      -2.229515\n",
      "11      -2.229515\n",
      "12      -2.229515\n",
      "13      -2.229515\n",
      "14      -2.229515\n",
      "15      -2.229515\n",
      "16      -2.229515\n",
      "17      -2.229515\n",
      "18      -2.229515\n",
      "19      -2.229515\n",
      "20      -2.229515\n",
      "21      -2.229515\n",
      "22      -2.229515\n",
      "23      -2.229515\n",
      "24      -2.229515\n",
      "25      -2.229515\n",
      "26      -2.229515\n",
      "27      -2.229515\n",
      "28      -2.229515\n",
      "29      -2.229515\n",
      "           ...   \n",
      "16685   -2.229515\n",
      "16686   -2.229515\n",
      "16687   -2.229515\n",
      "16688   -2.229515\n",
      "16689   -2.229515\n",
      "16690   -2.229515\n",
      "16691   -2.229515\n",
      "16692   -2.229515\n",
      "16693   -2.229515\n",
      "16694   -2.229515\n",
      "16695   -2.229515\n",
      "16696   -2.229515\n",
      "16697   -2.229515\n",
      "16698   -2.229515\n",
      "16699   -2.229515\n",
      "16700   -2.229515\n",
      "16701   -2.229515\n",
      "16702   -2.229515\n",
      "16703   -2.229515\n",
      "16704   -2.229515\n",
      "16705   -2.229515\n",
      "16706   -2.229515\n",
      "16707   -2.229515\n",
      "16708   -2.229515\n",
      "16709   -2.229515\n",
      "16710   -2.229515\n",
      "16711   -2.229515\n",
      "16712   -2.229515\n",
      "16713   -2.229515\n",
      "16714   -2.229515\n",
      "Name: prior, Length: 16715, dtype: float64\n"
     ]
    }
   ],
   "source": [
    "# The prior are equal up to an additive constant:\n",
    "print(KiDS1000_default_myprior - KiDS1000_default['prior'])"
   ]
  },
  {
   "cell_type": "code",
   "execution_count": 18,
   "metadata": {},
   "outputs": [
    {
     "name": "stdout",
     "output_type": "stream",
     "text": [
      "0       -2.229515\n",
      "1       -2.229515\n",
      "2       -2.229515\n",
      "3       -2.229515\n",
      "4       -2.229515\n",
      "5       -2.229515\n",
      "6       -2.229515\n",
      "7       -2.229515\n",
      "8       -2.229515\n",
      "9       -2.229515\n",
      "10      -2.229515\n",
      "11      -2.229515\n",
      "12      -2.229515\n",
      "13      -2.229515\n",
      "14      -2.229515\n",
      "15      -2.229515\n",
      "16      -2.229515\n",
      "17      -2.229515\n",
      "18      -2.229515\n",
      "19      -2.229515\n",
      "20      -2.229515\n",
      "21      -2.229515\n",
      "22      -2.229515\n",
      "23      -2.229515\n",
      "24      -2.229515\n",
      "25      -2.229515\n",
      "26      -2.229515\n",
      "27      -2.229515\n",
      "28      -2.229515\n",
      "29      -2.229515\n",
      "           ...   \n",
      "16685   -2.229515\n",
      "16686   -2.229515\n",
      "16687   -2.229515\n",
      "16688   -2.229515\n",
      "16689   -2.229515\n",
      "16690   -2.229515\n",
      "16691   -2.229515\n",
      "16692   -2.229515\n",
      "16693   -2.229515\n",
      "16694   -2.229515\n",
      "16695   -2.229515\n",
      "16696   -2.229515\n",
      "16697   -2.229515\n",
      "16698   -2.229515\n",
      "16699   -2.229515\n",
      "16700   -2.229515\n",
      "16701   -2.229515\n",
      "16702   -2.229515\n",
      "16703   -2.229515\n",
      "16704   -2.229515\n",
      "16705   -2.229515\n",
      "16706   -2.229515\n",
      "16707   -2.229515\n",
      "16708   -2.229515\n",
      "16709   -2.229515\n",
      "16710   -2.229515\n",
      "16711   -2.229515\n",
      "16712   -2.229515\n",
      "16713   -2.229515\n",
      "16714   -2.229515\n",
      "Length: 16715, dtype: float64\n"
     ]
    }
   ],
   "source": [
    "# Same for the posteriors:\n",
    "print(KiDS1000_default_mypost - KiDS1000_default['post'])"
   ]
  },
  {
   "cell_type": "code",
   "execution_count": null,
   "metadata": {},
   "outputs": [],
   "source": []
  }
 ],
 "metadata": {
  "kernelspec": {
   "display_name": "Python 3",
   "language": "python",
   "name": "python3"
  },
  "language_info": {
   "codemirror_mode": {
    "name": "ipython",
    "version": 3
   },
   "file_extension": ".py",
   "mimetype": "text/x-python",
   "name": "python",
   "nbconvert_exporter": "python",
   "pygments_lexer": "ipython3",
   "version": "3.6.7"
  }
 },
 "nbformat": 4,
 "nbformat_minor": 4
}
