{
 "cells": [
  {
   "cell_type": "code",
   "execution_count": 1,
   "metadata": {},
   "outputs": [],
   "source": [
    "import os\n",
    "import numpy as np\n",
    "import matplotlib.pyplot as plt\n",
    "from chainconsumer import ChainConsumer\n",
    "import glob\n",
    "import pandas as pd\n",
    "import scipy.linalg\n",
    "from scipy.special import erfcinv\n",
    "import anesthetic\n",
    "import scipy.stats"
   ]
  },
  {
   "cell_type": "code",
   "execution_count": 2,
   "metadata": {},
   "outputs": [],
   "source": [
    "def loadMontePythonChain(directory):\n",
    "    data = np.loadtxt(directory + '/chain_NS__accepted.txt')\n",
    "    # load parameter names\n",
    "    filename =  glob.glob(directory + '/*.paramnames')\n",
    "    names = np.loadtxt(filename[0], dtype=str, delimiter='\\t').T[0]\n",
    "    # first two columns: weight & mloglkl\n",
    "    params = np.concatenate((['weight','mloglkl'], names))\n",
    "    # remove trailing spaces\n",
    "    for idx, name in enumerate(params):\n",
    "        if name[-1] == ' ':\n",
    "            params[idx] = name[:-1]\n",
    "    chain = pd.DataFrame(data, columns = params)\n",
    "    # add the true chi2 to the chain\n",
    "    chain.insert(2,'chi2',2*chain['mloglkl'])\n",
    "    return(chain)"
   ]
  },
  {
   "cell_type": "code",
   "execution_count": 3,
   "metadata": {},
   "outputs": [],
   "source": [
    "# chi-square values for a gaussian prior\n",
    "means = np.array([0., 0.181, 1.110, 1.395, -1.265])\n",
    "sigmas = np.array([1.0, 1.0, 1.0, 1.0, 1.0])\n",
    "def gaussian_chi2(x, mean, sigma):\n",
    "    return((x - mean)**2 / sigma**2)"
   ]
  },
  {
   "cell_type": "code",
   "execution_count": 4,
   "metadata": {},
   "outputs": [],
   "source": [
    "# function that writes the chain including loglkl, prior, and posterior to a file\n",
    "def add_posterior(input_folder):\n",
    "    chain = loadMontePythonChain(input_folder)\n",
    "    # Calculate the prior from a Gaussian chi-square \n",
    "    prior = 0.5*np.sum(gaussian_chi2(chain[['D_z1','D_z2','D_z3','D_z4','D_z5']].values, means, sigmas), axis=1)\n",
    "    # add prior column to the chain\n",
    "    chain.insert(3, 'prior', prior)\n",
    "    # add posterior column to the chain (post = loglkl + prior) Note: This is the true log-likelihood; not the default -2*loglkl that MontePython puts in the output file!\n",
    "    chain.insert(4,'post', chain['mloglkl'] + chain['prior'])\n",
    "    return(chain)"
   ]
  },
  {
   "cell_type": "code",
   "execution_count": 5,
   "metadata": {},
   "outputs": [],
   "source": [
    "def find_bestfit_chi2(input_folder):\n",
    "    chain = add_posterior(input_folder)\n",
    "    d = np.where(chain['mloglkl']<10)[0]\n",
    "    chain = chain.drop(d)\n",
    "    chi2 = chain['chi2'][np.where(chain['post'] == np.min(chain['post']))[0]]\n",
    "    return(chi2.values[0])\n",
    "def print_bestfit(input_folder):\n",
    "    chain = add_posterior(input_folder)\n",
    "    bf = chain.loc[np.where(chain['post'] == np.min(chain['post']))[0]]\n",
    "    return(bf)"
   ]
  },
  {
   "cell_type": "code",
   "execution_count": 6,
   "metadata": {},
   "outputs": [
    {
     "name": "stdout",
     "output_type": "stream",
     "text": [
      "1cosmo: 152.338280\n",
      "2cosmo: 150.761880\n"
     ]
    }
   ],
   "source": [
    "# K1K \n",
    "print('1cosmo: %f'%find_bestfit_chi2('../chains/K1K_1c'))\n",
    "print('2cosmo: %f'%find_bestfit_chi2('../chains/K1K_bp'))"
   ]
  },
  {
   "cell_type": "code",
   "execution_count": 7,
   "metadata": {},
   "outputs": [
    {
     "name": "stdout",
     "output_type": "stream",
     "text": [
      "1cosmo: 157.491780\n",
      "2cosmo: 156.363120\n"
     ]
    }
   ],
   "source": [
    "# K1K + clustering\n",
    "print('1cosmo: %f'%find_bestfit_chi2('../chains/K1K_Cl_1c'))\n",
    "print('2cosmo: %f'%find_bestfit_chi2('../chains/K1K_Cl'))"
   ]
  },
  {
   "cell_type": "code",
   "execution_count": 8,
   "metadata": {},
   "outputs": [
    {
     "name": "stdout",
     "output_type": "stream",
     "text": [
      "1cosmo: 161.330220\n",
      "2cosmo: 160.756060\n"
     ]
    }
   ],
   "source": [
    "# K1K + clustering + Lyman-alpha\n",
    "print('1cosmo: %f'%find_bestfit_chi2('../chains/K1K_ClLy_1c'))\n",
    "print('2cosmo: %f'%find_bestfit_chi2('../chains/K1K_ClLy'))"
   ]
  },
  {
   "cell_type": "code",
   "execution_count": 9,
   "metadata": {},
   "outputs": [
    {
     "name": "stdout",
     "output_type": "stream",
     "text": [
      "1cosmo: 161.413020\n",
      "2cosmo: 160.775800\n"
     ]
    }
   ],
   "source": [
    "# K1K + clustering + Lyman-alpha + CMB\n",
    "print('1cosmo: %f'%find_bestfit_chi2('../chains/K1K_ClLyC_1c'))\n",
    "print('2cosmo: %f'%find_bestfit_chi2('../chains/K1K_ClLyC'))"
   ]
  },
  {
   "cell_type": "code",
   "execution_count": 10,
   "metadata": {},
   "outputs": [
    {
     "name": "stdout",
     "output_type": "stream",
     "text": [
      "1cosmo: 152.365620\n",
      "2cosmo: 152.821400\n"
     ]
    }
   ],
   "source": [
    "# K1K + Lyman-alpha\n",
    "print('1cosmo: %f'%find_bestfit_chi2('../chains/K1K_Ly_1c'))\n",
    "print('2cosmo: %f'%find_bestfit_chi2('../chains/K1K_Ly'))"
   ]
  },
  {
   "cell_type": "code",
   "execution_count": 11,
   "metadata": {},
   "outputs": [
    {
     "name": "stdout",
     "output_type": "stream",
     "text": [
      "1cosmo: 152.578820\n",
      "2cosmo: 151.597700\n"
     ]
    }
   ],
   "source": [
    "# K1K + CMB\n",
    "print('1cosmo: %f'%find_bestfit_chi2('../chains/K1K_CMB_1c'))\n",
    "print('2cosmo: %f'%find_bestfit_chi2('../chains/K1K_CMB'))"
   ]
  },
  {
   "cell_type": "code",
   "execution_count": null,
   "metadata": {},
   "outputs": [],
   "source": []
  }
 ],
 "metadata": {
  "kernelspec": {
   "display_name": "Python 3",
   "language": "python",
   "name": "python3"
  },
  "language_info": {
   "codemirror_mode": {
    "name": "ipython",
    "version": 3
   },
   "file_extension": ".py",
   "mimetype": "text/x-python",
   "name": "python",
   "nbconvert_exporter": "python",
   "pygments_lexer": "ipython3",
   "version": "3.6.7"
  }
 },
 "nbformat": 4,
 "nbformat_minor": 4
}
